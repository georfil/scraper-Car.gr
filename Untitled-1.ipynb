{
 "cells": [
  {
   "cell_type": "markdown",
   "metadata": {},
   "source": [
    "<h2>Import Libraries</h2>"
   ]
  },
  {
   "cell_type": "code",
   "execution_count": 375,
   "metadata": {},
   "outputs": [],
   "source": [
    "import pandas as pd\n",
    "import numpy as np\n",
    "import seaborn as sns\n",
    "import matplotlib.pyplot as plt\n",
    "import re\n",
    "import datetime as dt\n",
    "import json"
   ]
  },
  {
   "cell_type": "markdown",
   "metadata": {},
   "source": [
    "<h2>Import Data</h2>"
   ]
  },
  {
   "cell_type": "code",
   "execution_count": 376,
   "metadata": {},
   "outputs": [
    {
     "name": "stdout",
     "output_type": "stream",
     "text": [
      "(133060, 28)\n",
      "<class 'pandas.core.frame.DataFrame'>\n",
      "RangeIndex: 133060 entries, 0 to 133059\n",
      "Data columns (total 28 columns):\n",
      " #   Column                  Non-Null Count   Dtype  \n",
      "---  ------                  --------------   -----  \n",
      " 0   id                      133060 non-null  int64  \n",
      " 1   title                   133060 non-null  object \n",
      " 2   make                    133057 non-null  object \n",
      " 3   model                   132208 non-null  object \n",
      " 4   variant                 99239 non-null   object \n",
      " 5   year                    133060 non-null  int64  \n",
      " 6   price                   131737 non-null  float64\n",
      " 7   category                133060 non-null  object \n",
      " 8   registration            133060 non-null  object \n",
      " 9   crashed                 133060 non-null  bool   \n",
      " 10  is_new                  133060 non-null  bool   \n",
      " 11  engine_size             133060 non-null  object \n",
      " 12  engine_power            133060 non-null  object \n",
      " 13  fuel_type               133060 non-null  object \n",
      " 14  is_parked               133060 non-null  bool   \n",
      " 15  foreign_number_plate    133060 non-null  bool   \n",
      " 16  price_debatable         133060 non-null  bool   \n",
      " 17  seller_area             133055 non-null  object \n",
      " 18  offer_type              133060 non-null  object \n",
      " 19  has_leasing             133060 non-null  bool   \n",
      " 20  only_leasing            133060 non-null  bool   \n",
      " 21  default_leasing_option  1384 non-null    object \n",
      " 22  posting_date            133060 non-null  object \n",
      " 23  gearbox_type            38044 non-null   object \n",
      " 24  mileage                 129986 non-null  object \n",
      " 25  battery_range           2580 non-null    object \n",
      " 26  battery_charge_time     1204 non-null    object \n",
      " 27  features                4495 non-null    object \n",
      "dtypes: bool(7), float64(1), int64(2), object(18)\n",
      "memory usage: 22.2+ MB\n",
      "None\n"
     ]
    }
   ],
   "source": [
    "df = pd.read_csv('c:\\\\Users\\\\georf\\\\OneDrive - aueb.gr\\\\Desktop\\\\Projects\\\\scraper-Car.gr\\\\data.csv')\n",
    "df.drop(\"Unnamed: 0\", axis=1, inplace=True)\n",
    "print(df.shape)\n",
    "print(df.info())"
   ]
  },
  {
   "cell_type": "markdown",
   "metadata": {},
   "source": [
    "<h2><b>Exploratory Data Analysis</b><h2>"
   ]
  },
  {
   "cell_type": "markdown",
   "metadata": {},
   "source": [
    "<h3>Transforming Data Types</h3>"
   ]
  },
  {
   "cell_type": "code",
   "execution_count": 377,
   "metadata": {},
   "outputs": [],
   "source": [
    "df[\"id\"] = df[\"id\"].astype(str)\n",
    "df[\"registration\"] = pd.to_datetime(df[\"registration\"], format=\"%m/%Y\")\n",
    "df[\"mileage\"] = df[\"mileage\"].apply(lambda x: int(x.split(\" \")[0].replace(\".\",\"\")) if x is not np.nan else np.nan)\n",
    "df[\"engine_power\"] = df[\"engine_power\"].apply(lambda x: int(x.split(\" \")[0].replace(\".\",\"\")))\n",
    "df[\"posting_date\"] = pd.to_datetime(df[\"posting_date\"])"
   ]
  },
  {
   "cell_type": "markdown",
   "metadata": {},
   "source": [
    "<h3>Handling Duplicate Values</h3>"
   ]
  },
  {
   "cell_type": "code",
   "execution_count": 378,
   "metadata": {},
   "outputs": [
    {
     "name": "stdout",
     "output_type": "stream",
     "text": [
      "Removed 26029 duplicates\n"
     ]
    }
   ],
   "source": [
    "duplicate_count = df[df.duplicated(subset=\"id\")][\"id\"].count()\n",
    "df.drop_duplicates(subset=\"id\", inplace=True)\n",
    "print(f\"Removed {duplicate_count} duplicates\")"
   ]
  },
  {
   "cell_type": "markdown",
   "metadata": {},
   "source": [
    "<h3>Handling missing values<h3>"
   ]
  },
  {
   "cell_type": "code",
   "execution_count": 379,
   "metadata": {},
   "outputs": [
    {
     "data": {
      "text/html": [
       "<div>\n",
       "<style scoped>\n",
       "    .dataframe tbody tr th:only-of-type {\n",
       "        vertical-align: middle;\n",
       "    }\n",
       "\n",
       "    .dataframe tbody tr th {\n",
       "        vertical-align: top;\n",
       "    }\n",
       "\n",
       "    .dataframe thead th {\n",
       "        text-align: right;\n",
       "    }\n",
       "</style>\n",
       "<table border=\"1\" class=\"dataframe\">\n",
       "  <thead>\n",
       "    <tr style=\"text-align: right;\">\n",
       "      <th></th>\n",
       "      <th>Missing Values</th>\n",
       "    </tr>\n",
       "  </thead>\n",
       "  <tbody>\n",
       "    <tr>\n",
       "      <th>battery_charge_time</th>\n",
       "      <td>106059</td>\n",
       "    </tr>\n",
       "    <tr>\n",
       "      <th>default_leasing_option</th>\n",
       "      <td>106006</td>\n",
       "    </tr>\n",
       "    <tr>\n",
       "      <th>battery_range</th>\n",
       "      <td>104931</td>\n",
       "    </tr>\n",
       "    <tr>\n",
       "      <th>features</th>\n",
       "      <td>103409</td>\n",
       "    </tr>\n",
       "    <tr>\n",
       "      <th>gearbox_type</th>\n",
       "      <td>76484</td>\n",
       "    </tr>\n",
       "    <tr>\n",
       "      <th>variant</th>\n",
       "      <td>27336</td>\n",
       "    </tr>\n",
       "    <tr>\n",
       "      <th>mileage</th>\n",
       "      <td>2555</td>\n",
       "    </tr>\n",
       "    <tr>\n",
       "      <th>price</th>\n",
       "      <td>1088</td>\n",
       "    </tr>\n",
       "    <tr>\n",
       "      <th>model</th>\n",
       "      <td>677</td>\n",
       "    </tr>\n",
       "    <tr>\n",
       "      <th>seller_area</th>\n",
       "      <td>4</td>\n",
       "    </tr>\n",
       "    <tr>\n",
       "      <th>make</th>\n",
       "      <td>2</td>\n",
       "    </tr>\n",
       "  </tbody>\n",
       "</table>\n",
       "</div>"
      ],
      "text/plain": [
       "                        Missing Values\n",
       "battery_charge_time             106059\n",
       "default_leasing_option          106006\n",
       "battery_range                   104931\n",
       "features                        103409\n",
       "gearbox_type                     76484\n",
       "variant                          27336\n",
       "mileage                           2555\n",
       "price                             1088\n",
       "model                              677\n",
       "seller_area                          4\n",
       "make                                 2"
      ]
     },
     "execution_count": 379,
     "metadata": {},
     "output_type": "execute_result"
    }
   ],
   "source": [
    "nan_values_df = pd.DataFrame(df.isna().sum(), columns=[\"count\"])\n",
    "nan_values_df[nan_values_df[\"count\"]>0].sort_values(by=\"count\", ascending=False).rename(columns={\"count\":\"Missing Values\"})"
   ]
  },
  {
   "cell_type": "code",
   "execution_count": 380,
   "metadata": {},
   "outputs": [
    {
     "name": "stdout",
     "output_type": "stream",
     "text": [
      "Removed 1088 nan values in price column and 2 in make column\n",
      "-----------------------------------------------------\n",
      "              count\n",
      "gearbox_type       \n",
      "NaN           75735\n",
      "Αυτόματο      29602\n",
      "Ημιαυτόματο     604\n",
      "-----------------------------------------------------\n",
      "Replaced 76484 nan values with Χειροκινητο\n",
      "-----------------------------------------------------\n",
      "2555 nan values in mileage column are either due to seller not reporting the mileage or the car being new.\n"
     ]
    }
   ],
   "source": [
    "df.dropna(subset=[\"price\", \"make\"], inplace=True)\n",
    "print(f\"Removed {nan_values_df.loc[\"price\",\"count\"]} nan values in price column and {nan_values_df.loc[\"make\",\"count\"]} in make column\\n-----------------------------------------------------\")\n",
    "print(pd.DataFrame(df[\"gearbox_type\"].value_counts(dropna=False)))\n",
    "df.loc[df[\"gearbox_type\"].isna(),\"gearbox_type\"] = \"Χειροκίνητο\"\n",
    "print(f\"-----------------------------------------------------\\nReplaced {nan_values_df.loc[\"gearbox_type\",\"count\"]} nan values with Χειροκινητο\")\n",
    "print(f\"-----------------------------------------------------\\n{nan_values_df.loc[\"mileage\",\"count\"]} nan values in mileage column are either due to seller not reporting the mileage or the car being new.\")\n",
    "\n"
   ]
  },
  {
   "cell_type": "code",
   "execution_count": 381,
   "metadata": {},
   "outputs": [
    {
     "data": {
      "text/html": [
       "<div>\n",
       "<style scoped>\n",
       "    .dataframe tbody tr th:only-of-type {\n",
       "        vertical-align: middle;\n",
       "    }\n",
       "\n",
       "    .dataframe tbody tr th {\n",
       "        vertical-align: top;\n",
       "    }\n",
       "\n",
       "    .dataframe thead th {\n",
       "        text-align: right;\n",
       "    }\n",
       "</style>\n",
       "<table border=\"1\" class=\"dataframe\">\n",
       "  <thead>\n",
       "    <tr style=\"text-align: right;\">\n",
       "      <th></th>\n",
       "      <th>Count of new cars</th>\n",
       "    </tr>\n",
       "    <tr>\n",
       "      <th>missing_mileage</th>\n",
       "      <th></th>\n",
       "    </tr>\n",
       "  </thead>\n",
       "  <tbody>\n",
       "    <tr>\n",
       "      <th>False</th>\n",
       "      <td>451</td>\n",
       "    </tr>\n",
       "    <tr>\n",
       "      <th>True</th>\n",
       "      <td>1385</td>\n",
       "    </tr>\n",
       "  </tbody>\n",
       "</table>\n",
       "</div>"
      ],
      "text/plain": [
       "                 Count of new cars\n",
       "missing_mileage                   \n",
       "False                          451\n",
       "True                          1385"
      ]
     },
     "execution_count": 381,
     "metadata": {},
     "output_type": "execute_result"
    }
   ],
   "source": [
    "df_mileage_in_new_cars = df[df[\"is_new\"]][[\"id\", \"title\", \"mileage\"]]\n",
    "df_mileage_in_new_cars[\"missing_mileage\"] = df[\"mileage\"].isna()\n",
    "df_mileage_in_new_cars.groupby(\"missing_mileage\").agg(count=(\"id\", \"count\")).rename(columns={\"count\":\"Count of new cars\"})"
   ]
  },
  {
   "cell_type": "code",
   "execution_count": 382,
   "metadata": {},
   "outputs": [
    {
     "data": {
      "text/html": [
       "<div>\n",
       "<style scoped>\n",
       "    .dataframe tbody tr th:only-of-type {\n",
       "        vertical-align: middle;\n",
       "    }\n",
       "\n",
       "    .dataframe tbody tr th {\n",
       "        vertical-align: top;\n",
       "    }\n",
       "\n",
       "    .dataframe thead th {\n",
       "        text-align: right;\n",
       "    }\n",
       "</style>\n",
       "<table border=\"1\" class=\"dataframe\">\n",
       "  <thead>\n",
       "    <tr style=\"text-align: right;\">\n",
       "      <th></th>\n",
       "      <th>id</th>\n",
       "      <th>title</th>\n",
       "      <th>mileage</th>\n",
       "      <th>missing_mileage</th>\n",
       "    </tr>\n",
       "  </thead>\n",
       "  <tbody>\n",
       "    <tr>\n",
       "      <th>2536</th>\n",
       "      <td>342597100</td>\n",
       "      <td>Renault Trafic '25 NEW Trafic 9θεσιοΤΑΧΙ ΤΑΞΙ</td>\n",
       "      <td>1.0</td>\n",
       "      <td>False</td>\n",
       "    </tr>\n",
       "    <tr>\n",
       "      <th>2560</th>\n",
       "      <td>341204815</td>\n",
       "      <td>Renault Trafic '25 NEW TRAFIC 2025 9θεσιο+μετα...</td>\n",
       "      <td>1.0</td>\n",
       "      <td>False</td>\n",
       "    </tr>\n",
       "    <tr>\n",
       "      <th>2568</th>\n",
       "      <td>41727982</td>\n",
       "      <td>Mercedes-Benz Vito '25 NEW TRAFIC 2025 9θεσιο+...</td>\n",
       "      <td>1.0</td>\n",
       "      <td>False</td>\n",
       "    </tr>\n",
       "    <tr>\n",
       "      <th>3319</th>\n",
       "      <td>339485448</td>\n",
       "      <td>Kia Sportage '24 TITANIUM 7DCT 48V ΕΤΟΙΜΟΠΑΡΑΔΟΤΟ</td>\n",
       "      <td>290.0</td>\n",
       "      <td>False</td>\n",
       "    </tr>\n",
       "    <tr>\n",
       "      <th>4252</th>\n",
       "      <td>330657738</td>\n",
       "      <td>Beev '24 BEEV-2 L 3.0kWh</td>\n",
       "      <td>1.0</td>\n",
       "      <td>False</td>\n",
       "    </tr>\n",
       "    <tr>\n",
       "      <th>...</th>\n",
       "      <td>...</td>\n",
       "      <td>...</td>\n",
       "      <td>...</td>\n",
       "      <td>...</td>\n",
       "    </tr>\n",
       "    <tr>\n",
       "      <th>132377</th>\n",
       "      <td>339968690</td>\n",
       "      <td>Maserati Levante '24 GT HYBRID</td>\n",
       "      <td>31.0</td>\n",
       "      <td>False</td>\n",
       "    </tr>\n",
       "    <tr>\n",
       "      <th>132577</th>\n",
       "      <td>41758592</td>\n",
       "      <td>Opel Crossland '24 ELEGANCE</td>\n",
       "      <td>500.0</td>\n",
       "      <td>False</td>\n",
       "    </tr>\n",
       "    <tr>\n",
       "      <th>132578</th>\n",
       "      <td>41758579</td>\n",
       "      <td>Opel Crossland '24 ELEGANCE</td>\n",
       "      <td>500.0</td>\n",
       "      <td>False</td>\n",
       "    </tr>\n",
       "    <tr>\n",
       "      <th>132595</th>\n",
       "      <td>344822484</td>\n",
       "      <td>Citroen AMI '24 BUGGY-ΕΤΟΙΜΟΠΑΡΑΔΟΤΟ</td>\n",
       "      <td>1.0</td>\n",
       "      <td>False</td>\n",
       "    </tr>\n",
       "    <tr>\n",
       "      <th>132770</th>\n",
       "      <td>41469066</td>\n",
       "      <td>Cupra Leon '24 1.5 TSI 272hp VZ DSG αυτόματο e...</td>\n",
       "      <td>6.0</td>\n",
       "      <td>False</td>\n",
       "    </tr>\n",
       "  </tbody>\n",
       "</table>\n",
       "<p>451 rows × 4 columns</p>\n",
       "</div>"
      ],
      "text/plain": [
       "               id                                              title  mileage  \\\n",
       "2536    342597100      Renault Trafic '25 NEW Trafic 9θεσιοΤΑΧΙ ΤΑΞΙ      1.0   \n",
       "2560    341204815  Renault Trafic '25 NEW TRAFIC 2025 9θεσιο+μετα...      1.0   \n",
       "2568     41727982  Mercedes-Benz Vito '25 NEW TRAFIC 2025 9θεσιο+...      1.0   \n",
       "3319    339485448  Kia Sportage '24 TITANIUM 7DCT 48V ΕΤΟΙΜΟΠΑΡΑΔΟΤΟ    290.0   \n",
       "4252    330657738                           Beev '24 BEEV-2 L 3.0kWh      1.0   \n",
       "...           ...                                                ...      ...   \n",
       "132377  339968690                     Maserati Levante '24 GT HYBRID     31.0   \n",
       "132577   41758592                        Opel Crossland '24 ELEGANCE    500.0   \n",
       "132578   41758579                        Opel Crossland '24 ELEGANCE    500.0   \n",
       "132595  344822484               Citroen AMI '24 BUGGY-ΕΤΟΙΜΟΠΑΡΑΔΟΤΟ      1.0   \n",
       "132770   41469066  Cupra Leon '24 1.5 TSI 272hp VZ DSG αυτόματο e...      6.0   \n",
       "\n",
       "        missing_mileage  \n",
       "2536              False  \n",
       "2560              False  \n",
       "2568              False  \n",
       "3319              False  \n",
       "4252              False  \n",
       "...                 ...  \n",
       "132377            False  \n",
       "132577            False  \n",
       "132578            False  \n",
       "132595            False  \n",
       "132770            False  \n",
       "\n",
       "[451 rows x 4 columns]"
      ]
     },
     "execution_count": 382,
     "metadata": {},
     "output_type": "execute_result"
    }
   ],
   "source": [
    "df_mileage_in_new_cars[~df_mileage_in_new_cars[\"missing_mileage\"]]"
   ]
  },
  {
   "cell_type": "code",
   "execution_count": 383,
   "metadata": {},
   "outputs": [
    {
     "name": "stdout",
     "output_type": "stream",
     "text": [
      "Removed 1836 new cars, out of which 1385 had Nan Mileage\n"
     ]
    }
   ],
   "source": [
    "missing_mileage_from_new_cars = (df[\"is_new\"]&df[\"mileage\"].isna()).sum()\n",
    "new_cars = df[\"is_new\"].sum()\n",
    "df = df[~df[\"is_new\"]]\n",
    "print(f\"Removed {new_cars} new cars, out of which {missing_mileage_from_new_cars} had Nan Mileage\")"
   ]
  },
  {
   "cell_type": "code",
   "execution_count": 384,
   "metadata": {},
   "outputs": [
    {
     "name": "stdout",
     "output_type": "stream",
     "text": [
      "offer_type\n",
      "sale       102641\n",
      "wanted       1375\n",
      "rent           61\n",
      "leasing        28\n",
      "Name: count, dtype: int64\n",
      "-----------------------------------------------------\n",
      "Removed 1464 cars, that are not on sale.\n"
     ]
    }
   ],
   "source": [
    "offer_type_value_count = df[\"offer_type\"].value_counts()\n",
    "cars_not_on_sale = offer_type_value_count[offer_type_value_count.index!=\"sale\"].sum()\n",
    "print(offer_type_value_count)\n",
    "df = df[df[\"offer_type\"]==\"sale\"]\n",
    "print(f\"-----------------------------------------------------\\nRemoved {cars_not_on_sale} cars, that are not on sale.\")\n"
   ]
  },
  {
   "cell_type": "code",
   "execution_count": 385,
   "metadata": {},
   "outputs": [
    {
     "name": "stdout",
     "output_type": "stream",
     "text": [
      "Removed 265 cars that are being sold for parts\n"
     ]
    }
   ],
   "source": [
    "cars_sold_for_parts = df[\"title\"].str.contains(r\"ανταλλακτικά|ανταλλακτικα|ανταλακτικα|ανταλακτικά|antalaktika|antallaktika\", case=False, na=False, regex=True)\n",
    "df = df[~cars_sold_for_parts]\n",
    "print(f\"Removed {cars_sold_for_parts.sum()} cars that are being sold for parts\")"
   ]
  },
  {
   "cell_type": "code",
   "execution_count": 386,
   "metadata": {},
   "outputs": [
    {
     "name": "stdout",
     "output_type": "stream",
     "text": [
      "0.64 % of cars still have nan mileage. This is due to mileage not being reported by the seller.\n"
     ]
    }
   ],
   "source": [
    "print(f\"{(df[\"mileage\"].isna().sum()/df.shape[0])*100:.2f} % of cars still have nan mileage. This is due to mileage not being reported by the seller.\")"
   ]
  },
  {
   "cell_type": "markdown",
   "metadata": {},
   "source": [
    "<h3>Handling Mileage not being reported</h3>\n",
    "<p>First, we wil create a column to measure days between car's registration and posting data  </p>"
   ]
  },
  {
   "cell_type": "code",
   "execution_count": 387,
   "metadata": {},
   "outputs": [
    {
     "name": "stdout",
     "output_type": "stream",
     "text": [
      "75 cars have negative days since reqistration due to seller creating a posting and modifying it later with another car, or the posting being posted in advance before car's registration\n"
     ]
    }
   ],
   "source": [
    "df[\"days_since_registration\"] = (df[\"posting_date\"] - df[\"registration\"]).dt.days\n",
    "print(f\"{df[df[\"days_since_registration\"]<=0][\"id\"].count()} cars have negative days since reqistration due to seller creating a posting and modifying it later with another car, or the posting being posted in advance before car's registration\")"
   ]
  },
  {
   "cell_type": "markdown",
   "metadata": {},
   "source": [
    "<p>In order to calculate <b>miles per day</b> for each car we will divide <b>mileage</b> with the <b>number of days since registraion</b>. If either is none, a value on nan will be assigned in order to exclude from below calculations</p>"
   ]
  },
  {
   "cell_type": "code",
   "execution_count": 388,
   "metadata": {},
   "outputs": [],
   "source": [
    "df[\"days_since_registration\"] = df.apply(lambda car: car[\"days_since_registration\"] if car[\"days_since_registration\"]>0 else np.nan, axis=1)\n",
    "df[\"miles_per_day\"] = df[\"mileage\"] / df[\"days_since_registration\"]"
   ]
  },
  {
   "cell_type": "code",
   "execution_count": 389,
   "metadata": {},
   "outputs": [
    {
     "data": {
      "text/plain": [
       "count    101664.000000\n",
       "mean         39.706638\n",
       "std         116.991652\n",
       "min           0.000036\n",
       "25%          23.800573\n",
       "50%          34.518432\n",
       "75%          48.520013\n",
       "max       32500.000000\n",
       "Name: miles_per_day, dtype: float64"
      ]
     },
     "execution_count": 389,
     "metadata": {},
     "output_type": "execute_result"
    }
   ],
   "source": [
    "df[\"miles_per_day\"].describe()"
   ]
  },
  {
   "cell_type": "markdown",
   "metadata": {},
   "source": [
    "We will remove car trailers category as it is not relevant"
   ]
  },
  {
   "cell_type": "code",
   "execution_count": 390,
   "metadata": {},
   "outputs": [],
   "source": [
    "df = df[df[\"category\"]!='Αυτοκίνητο » Τρέιλερ Αυτοκινήτου']"
   ]
  },
  {
   "cell_type": "markdown",
   "metadata": {},
   "source": [
    "Next, we will calculate average miles per day for each category, excluding outliers. Using this average we will multiply it with days since registration in order to get expected mileage"
   ]
  },
  {
   "cell_type": "code",
   "execution_count": 395,
   "metadata": {},
   "outputs": [],
   "source": [
    "\n",
    "df_wo_miles_outliers = df[df[\"miles_per_day\"].between(df[\"miles_per_day\"].quantile(0.25), df[\"miles_per_day\"].quantile(0.75))]\n",
    "miles_per_day_per_category = df_wo_miles_outliers.groupby(\"category\")[\"miles_per_day\"].mean().to_dict()\n",
    "df[\"expected_mileage\"] = df.apply(lambda car: car[\"days_since_registration\"]*miles_per_day_per_category[car[\"category\"]], axis=1)"
   ]
  },
  {
   "cell_type": "code",
   "execution_count": 396,
   "metadata": {},
   "outputs": [
    {
     "data": {
      "text/html": [
       "<div>\n",
       "<style scoped>\n",
       "    .dataframe tbody tr th:only-of-type {\n",
       "        vertical-align: middle;\n",
       "    }\n",
       "\n",
       "    .dataframe tbody tr th {\n",
       "        vertical-align: top;\n",
       "    }\n",
       "\n",
       "    .dataframe thead th {\n",
       "        text-align: right;\n",
       "    }\n",
       "</style>\n",
       "<table border=\"1\" class=\"dataframe\">\n",
       "  <thead>\n",
       "    <tr style=\"text-align: right;\">\n",
       "      <th></th>\n",
       "      <th>title</th>\n",
       "      <th>category</th>\n",
       "      <th>mileage</th>\n",
       "      <th>expected_mileage</th>\n",
       "    </tr>\n",
       "  </thead>\n",
       "  <tbody>\n",
       "    <tr>\n",
       "      <th>0</th>\n",
       "      <td>Audi A1 '11 TDI 1,6 105hp</td>\n",
       "      <td>Αυτοκίνητο » Κόμπακτ/Hatchback</td>\n",
       "      <td>NaN</td>\n",
       "      <td>180077.974033</td>\n",
       "    </tr>\n",
       "    <tr>\n",
       "      <th>1</th>\n",
       "      <td>Renault Megane '25 ΠΡΟΣΦΟΡΑ  E TECH  TECHNO EV...</td>\n",
       "      <td>Αυτοκίνητο » Άλλο</td>\n",
       "      <td>NaN</td>\n",
       "      <td>NaN</td>\n",
       "    </tr>\n",
       "    <tr>\n",
       "      <th>2</th>\n",
       "      <td>Bmw X6 M '16</td>\n",
       "      <td>Αυτοκίνητο » Suv/Crossover/4x4</td>\n",
       "      <td>85000.0</td>\n",
       "      <td>57457.279536</td>\n",
       "    </tr>\n",
       "    <tr>\n",
       "      <th>3</th>\n",
       "      <td>Mazda MX-5 '04</td>\n",
       "      <td>Αυτοκίνητο » Κάμπριο/Roadster</td>\n",
       "      <td>240000.0</td>\n",
       "      <td>241440.545226</td>\n",
       "    </tr>\n",
       "    <tr>\n",
       "      <th>4</th>\n",
       "      <td>Jaguar XE '17 20d Prestige 180hp Auto Leather ...</td>\n",
       "      <td>Αυτοκίνητο » Λιμουζίνα/Sedan</td>\n",
       "      <td>210000.0</td>\n",
       "      <td>85293.126054</td>\n",
       "    </tr>\n",
       "    <tr>\n",
       "      <th>5</th>\n",
       "      <td>Ford Fiesta '04</td>\n",
       "      <td>Αυτοκίνητο » Κόμπακτ/Hatchback</td>\n",
       "      <td>213315.0</td>\n",
       "      <td>268942.158298</td>\n",
       "    </tr>\n",
       "    <tr>\n",
       "      <th>6</th>\n",
       "      <td>Toyota iQ '12</td>\n",
       "      <td>Αυτοκίνητο » Άλλο</td>\n",
       "      <td>155000.0</td>\n",
       "      <td>165664.553164</td>\n",
       "    </tr>\n",
       "    <tr>\n",
       "      <th>7</th>\n",
       "      <td>Kia Carens '04</td>\n",
       "      <td>Αυτοκίνητο » Κόμπι/Kάραβαν</td>\n",
       "      <td>183000.0</td>\n",
       "      <td>271244.521400</td>\n",
       "    </tr>\n",
       "    <tr>\n",
       "      <th>8</th>\n",
       "      <td>Ford Fiesta '08</td>\n",
       "      <td>Αυτοκίνητο » Κόμπακτ/Hatchback</td>\n",
       "      <td>189800.0</td>\n",
       "      <td>209851.333323</td>\n",
       "    </tr>\n",
       "    <tr>\n",
       "      <th>9</th>\n",
       "      <td>Ford Fiesta '16 1.5 TDCI TREND</td>\n",
       "      <td>Αυτοκίνητο » Κόμπακτ/Hatchback</td>\n",
       "      <td>153600.0</td>\n",
       "      <td>106258.278738</td>\n",
       "    </tr>\n",
       "    <tr>\n",
       "      <th>10</th>\n",
       "      <td>Ford Ka '10 1.2 TITANIUM</td>\n",
       "      <td>Αυτοκίνητο » Κόμπακτ/Hatchback</td>\n",
       "      <td>182000.0</td>\n",
       "      <td>193123.544888</td>\n",
       "    </tr>\n",
       "    <tr>\n",
       "      <th>11</th>\n",
       "      <td>Volkswagen Amarok '19 AVENTURA</td>\n",
       "      <td>Αυτοκίνητο » Αγροτικό/Pickup</td>\n",
       "      <td>127000.0</td>\n",
       "      <td>75055.575409</td>\n",
       "    </tr>\n",
       "    <tr>\n",
       "      <th>12</th>\n",
       "      <td>Chevrolet Matiz '06</td>\n",
       "      <td>Αυτοκίνητο » Άλλο</td>\n",
       "      <td>164000.0</td>\n",
       "      <td>236119.593015</td>\n",
       "    </tr>\n",
       "    <tr>\n",
       "      <th>13</th>\n",
       "      <td>Opel Corsa '15 1.3 CDTI ECOFLEX DIESEL</td>\n",
       "      <td>Αυτοκίνητο » Κόμπακτ/Hatchback</td>\n",
       "      <td>150000.0</td>\n",
       "      <td>118181.649950</td>\n",
       "    </tr>\n",
       "    <tr>\n",
       "      <th>14</th>\n",
       "      <td>Skoda Kodiaq '17 Style - 4X4</td>\n",
       "      <td>Αυτοκίνητο » Επαγγελματικό Eπιβατικό</td>\n",
       "      <td>110000.0</td>\n",
       "      <td>106254.007149</td>\n",
       "    </tr>\n",
       "    <tr>\n",
       "      <th>15</th>\n",
       "      <td>Nissan Qashqai '18 1.5 DCI TEKNA PANORAMA</td>\n",
       "      <td>Αυτοκίνητο » Suv/Crossover/4x4</td>\n",
       "      <td>133000.0</td>\n",
       "      <td>90033.183954</td>\n",
       "    </tr>\n",
       "    <tr>\n",
       "      <th>16</th>\n",
       "      <td>Mercedes-Benz B 200 '14 AUTOMATIC</td>\n",
       "      <td>Αυτοκίνητο » Κόμπακτ/Hatchback</td>\n",
       "      <td>220000.0</td>\n",
       "      <td>123897.854383</td>\n",
       "    </tr>\n",
       "    <tr>\n",
       "      <th>17</th>\n",
       "      <td>Renault Megane '11 GRAND TOUR GT LINE *AUTOMATIC*</td>\n",
       "      <td>Αυτοκίνητο » Κόμπι/Kάραβαν</td>\n",
       "      <td>177000.0</td>\n",
       "      <td>178215.275908</td>\n",
       "    </tr>\n",
       "    <tr>\n",
       "      <th>18</th>\n",
       "      <td>Volkswagen Beetle '72</td>\n",
       "      <td>Αυτοκίνητο » Κόμπακτ/Hatchback</td>\n",
       "      <td>32450.0</td>\n",
       "      <td>641477.371181</td>\n",
       "    </tr>\n",
       "    <tr>\n",
       "      <th>19</th>\n",
       "      <td>Volkswagen Touran '16</td>\n",
       "      <td>Αυτοκίνητο » Suv/Crossover/4x4</td>\n",
       "      <td>190000.0</td>\n",
       "      <td>119193.292655</td>\n",
       "    </tr>\n",
       "  </tbody>\n",
       "</table>\n",
       "</div>"
      ],
      "text/plain": [
       "                                                title  \\\n",
       "0                           Audi A1 '11 TDI 1,6 105hp   \n",
       "1   Renault Megane '25 ΠΡΟΣΦΟΡΑ  E TECH  TECHNO EV...   \n",
       "2                                        Bmw X6 M '16   \n",
       "3                                      Mazda MX-5 '04   \n",
       "4   Jaguar XE '17 20d Prestige 180hp Auto Leather ...   \n",
       "5                                     Ford Fiesta '04   \n",
       "6                                       Toyota iQ '12   \n",
       "7                                      Kia Carens '04   \n",
       "8                                     Ford Fiesta '08   \n",
       "9                      Ford Fiesta '16 1.5 TDCI TREND   \n",
       "10                           Ford Ka '10 1.2 TITANIUM   \n",
       "11                     Volkswagen Amarok '19 AVENTURA   \n",
       "12                                Chevrolet Matiz '06   \n",
       "13             Opel Corsa '15 1.3 CDTI ECOFLEX DIESEL   \n",
       "14                       Skoda Kodiaq '17 Style - 4X4   \n",
       "15          Nissan Qashqai '18 1.5 DCI TEKNA PANORAMA   \n",
       "16                  Mercedes-Benz B 200 '14 AUTOMATIC   \n",
       "17  Renault Megane '11 GRAND TOUR GT LINE *AUTOMATIC*   \n",
       "18                              Volkswagen Beetle '72   \n",
       "19                              Volkswagen Touran '16   \n",
       "\n",
       "                                category   mileage  expected_mileage  \n",
       "0         Αυτοκίνητο » Κόμπακτ/Hatchback       NaN     180077.974033  \n",
       "1                      Αυτοκίνητο » Άλλο       NaN               NaN  \n",
       "2         Αυτοκίνητο » Suv/Crossover/4x4   85000.0      57457.279536  \n",
       "3          Αυτοκίνητο » Κάμπριο/Roadster  240000.0     241440.545226  \n",
       "4           Αυτοκίνητο » Λιμουζίνα/Sedan  210000.0      85293.126054  \n",
       "5         Αυτοκίνητο » Κόμπακτ/Hatchback  213315.0     268942.158298  \n",
       "6                      Αυτοκίνητο » Άλλο  155000.0     165664.553164  \n",
       "7             Αυτοκίνητο » Κόμπι/Kάραβαν  183000.0     271244.521400  \n",
       "8         Αυτοκίνητο » Κόμπακτ/Hatchback  189800.0     209851.333323  \n",
       "9         Αυτοκίνητο » Κόμπακτ/Hatchback  153600.0     106258.278738  \n",
       "10        Αυτοκίνητο » Κόμπακτ/Hatchback  182000.0     193123.544888  \n",
       "11          Αυτοκίνητο » Αγροτικό/Pickup  127000.0      75055.575409  \n",
       "12                     Αυτοκίνητο » Άλλο  164000.0     236119.593015  \n",
       "13        Αυτοκίνητο » Κόμπακτ/Hatchback  150000.0     118181.649950  \n",
       "14  Αυτοκίνητο » Επαγγελματικό Eπιβατικό  110000.0     106254.007149  \n",
       "15        Αυτοκίνητο » Suv/Crossover/4x4  133000.0      90033.183954  \n",
       "16        Αυτοκίνητο » Κόμπακτ/Hatchback  220000.0     123897.854383  \n",
       "17            Αυτοκίνητο » Κόμπι/Kάραβαν  177000.0     178215.275908  \n",
       "18        Αυτοκίνητο » Κόμπακτ/Hatchback   32450.0     641477.371181  \n",
       "19        Αυτοκίνητο » Suv/Crossover/4x4  190000.0     119193.292655  "
      ]
     },
     "execution_count": 396,
     "metadata": {},
     "output_type": "execute_result"
    }
   ],
   "source": [
    "df[[\"title\",\"category\",\"mileage\",\"expected_mileage\"]].head(20)"
   ]
  },
  {
   "cell_type": "code",
   "execution_count": null,
   "metadata": {},
   "outputs": [
    {
     "data": {
      "text/plain": [
       "<Axes: xlabel='registration', ylabel='Count'>"
      ]
     },
     "execution_count": 253,
     "metadata": {},
     "output_type": "execute_result"
    },
    {
     "data": {
      "image/png": "[encoded data removed]",
      "text/plain": [
       "<Figure size 640x480 with 1 Axes>"
      ]
     },
     "metadata": {},
     "output_type": "display_data"
    }
   ],
   "source": []
  },
  {
   "cell_type": "markdown",
   "metadata": {},
   "source": [
    "Transforming engine size"
   ]
  },
  {
   "cell_type": "code",
   "execution_count": 577,
   "metadata": {},
   "outputs": [],
   "source": [
    "df[\"engine_measure\"] = df[\"engine_size\"].apply(lambda x: x.split(\" \")[1])\n",
    "df[\"engine_measure\"].value_counts()\n",
    "df[\"engine_size\"] = df[\"engine_size\"].apply(lambda x:int(x.split(\" \")[0].replace(\".\",\"\")))\n",
    "df.loc[df[\"engine_measure\"]==\"watt\",\"engine_size\"] /= 1000\n",
    "df.loc[df[\"engine_measure\"]==\"watt\",\"engine_measure\"] = \"kw\"   "
   ]
  },
  {
   "cell_type": "markdown",
   "metadata": {},
   "source": [
    "Cleaning illogical data"
   ]
  },
  {
   "cell_type": "markdown",
   "metadata": {},
   "source": [
    "Removing cars than have pricing set per month"
   ]
  },
  {
   "cell_type": "code",
   "execution_count": 578,
   "metadata": {},
   "outputs": [],
   "source": [
    "df = df[~((df[\"offer_type\"]==\"leasing\")&(df[\"price\"]<5000))]"
   ]
  },
  {
   "cell_type": "markdown",
   "metadata": {},
   "source": [
    "If mileage is higer than 0 then it can't be new"
   ]
  },
  {
   "cell_type": "code",
   "execution_count": 579,
   "metadata": {},
   "outputs": [],
   "source": [
    "df.loc[df[\"is_new\"] & df[\"mileage\"].notna(), \"is_new\"] = False\n",
    "df.loc[df[\"is_new\"],\"mileage\"] = 0"
   ]
  },
  {
   "cell_type": "markdown",
   "metadata": {},
   "source": [
    "Remove cars for rental"
   ]
  },
  {
   "cell_type": "code",
   "execution_count": 581,
   "metadata": {},
   "outputs": [],
   "source": [
    "df = df[~df[\"title\"].str.contains(r\"\\sRENT\\s\", case=False, regex=True)]"
   ]
  },
  {
   "cell_type": "markdown",
   "metadata": {},
   "source": [
    "Car Make should be specific"
   ]
  },
  {
   "cell_type": "code",
   "execution_count": 582,
   "metadata": {},
   "outputs": [],
   "source": [
    "df = df[~(df[\"make\"]==\"Αλλο\")]"
   ]
  },
  {
   "cell_type": "markdown",
   "metadata": {},
   "source": [
    "A non crashed car can't be worth less than 100 euros"
   ]
  },
  {
   "cell_type": "code",
   "execution_count": 583,
   "metadata": {},
   "outputs": [],
   "source": [
    "df = df[~((df[\"price\"]<=100)&~(df[\"crashed\"]))]"
   ]
  },
  {
   "cell_type": "markdown",
   "metadata": {},
   "source": [
    "Adding tax to price that doesn't include it"
   ]
  },
  {
   "cell_type": "code",
   "execution_count": 584,
   "metadata": {},
   "outputs": [],
   "source": [
    "df.loc[df[\"features\"].apply(lambda x: \"ΤΙΜΗ ΧΩΡΙΣ ΦΠΑ\" in x if x is not np.nan else False),\"price\"] *= 1.24"
   ]
  },
  {
   "cell_type": "markdown",
   "metadata": {},
   "source": [
    "Removing new non crashed cars that have price less than 1000"
   ]
  },
  {
   "cell_type": "code",
   "execution_count": 585,
   "metadata": {},
   "outputs": [],
   "source": [
    "df = df[~((df[\"price\"]<1000) & (df[\"registration\"]>\"2010-01-01\") & ~(df[\"crashed\"]))]"
   ]
  },
  {
   "cell_type": "markdown",
   "metadata": {},
   "source": [
    "Removing cars that have price less than 50"
   ]
  },
  {
   "cell_type": "code",
   "execution_count": 586,
   "metadata": {},
   "outputs": [],
   "source": [
    "df = df[df[\"price\"]>50]"
   ]
  },
  {
   "cell_type": "markdown",
   "metadata": {},
   "source": [
    "Removing cars without reported mileage"
   ]
  },
  {
   "cell_type": "code",
   "execution_count": null,
   "metadata": {},
   "outputs": [],
   "source": [
    "print(f\"Cars without reported mileage : {df[df[\"mileage\"].isna()][\"id\"].count()}\")\n",
    "df = df[df[\"mileage\"].notna()]"
   ]
  },
  {
   "cell_type": "markdown",
   "metadata": {},
   "source": [
    "Removing extreme outliers"
   ]
  },
  {
   "cell_type": "code",
   "execution_count": null,
   "metadata": {},
   "outputs": [],
   "source": [
    "print(df[df[\"price\"]>900000][[\"title\",\"year\",\"price\"]])\n",
    "df = df[~(df[\"price\"]>900000)]"
   ]
  },
  {
   "cell_type": "markdown",
   "metadata": {},
   "source": [
    "Removing cars with 0 mileage"
   ]
  },
  {
   "cell_type": "code",
   "execution_count": 600,
   "metadata": {},
   "outputs": [],
   "source": [
    "df = df[~df[\"is_new\"]]"
   ]
  },
  {
   "cell_type": "markdown",
   "metadata": {},
   "source": [
    "Creating extra columns"
   ]
  },
  {
   "cell_type": "code",
   "execution_count": 589,
   "metadata": {},
   "outputs": [],
   "source": [
    "df[\"full_extra\"] = df[\"variant\"].str.contains(\"full extra\", case=False, na=False)\n",
    "df[\"warranty\"] = df[\"variant\"].str.contains(r\"εγγ\\u03CDηση|εγγυηση\", case=False, na=False, regex=True)\n",
    "df[\"year\"] = df[\"registration\"].dt.strftime(\"%Y\").astype(int)\n"
   ]
  },
  {
   "cell_type": "markdown",
   "metadata": {},
   "source": [
    "Transforming Category Column"
   ]
  },
  {
   "cell_type": "code",
   "execution_count": 590,
   "metadata": {},
   "outputs": [],
   "source": [
    "category_dict = {\n",
    "    \"Αυτοκίνητο » Suv/Crossover/4x4\":\"suv\",\n",
    "    \"Αυτοκίνητο » Van/Mini Bus/Mpv\":\"van\",\n",
    "    \"Αυτοκίνητο » Άλλο\":\"other\",\n",
    "    \"Αυτοκίνητο » Αγροτικό/Pickup\":\"pickup\",\n",
    "    \"Αυτοκίνητο » Αγωνιστικό\":\"race\",\n",
    "    \"Αυτοκίνητο » Επαγγελματικό Eπιβατικό\":\"profesional\",\n",
    "    \"Αυτοκίνητο » Κάμπριο/Roadster\":\"cabrio\",\n",
    "    \"Αυτοκίνητο » Κουπέ-Σπόρ\":\"coupe\",\n",
    "    \"Αυτοκίνητο » Κόμπακτ/Hatchback\":\"compact\",\n",
    "    \"Αυτοκίνητο » Κόμπι/Kάραβαν\":\"caravan\",\n",
    "    \"Αυτοκίνητο » Λιμουζίνα/Sedan\":\"sedan\"\n",
    "}\n",
    "df[\"category\"] = df[\"category\"].map(category_dict)"
   ]
  },
  {
   "cell_type": "code",
   "execution_count": null,
   "metadata": {},
   "outputs": [],
   "source": [
    "plt.figure(figsize=(20,5))\n",
    "sns.barplot(df.groupby(\"category\")[\"price\"].mean().sort_values(ascending=False))"
   ]
  }
 ],
 "metadata": {
  "kernelspec": {
   "display_name": "Python 3",
   "language": "python",
   "name": "python3"
  },
  "language_info": {
   "codemirror_mode": {
    "name": "ipython",
    "version": 3
   },
   "file_extension": ".py",
   "mimetype": "text/x-python",
   "name": "python",
   "nbconvert_exporter": "python",
   "pygments_lexer": "ipython3",
   "version": "3.12.2"
  }
 },
 "nbformat": 4,
 "nbformat_minor": 2
}
