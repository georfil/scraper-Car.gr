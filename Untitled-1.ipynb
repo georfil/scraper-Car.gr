{
 "cells": [
  {
   "cell_type": "markdown",
   "metadata": {},
   "source": [
    "Import Libraries"
   ]
  },
  {
   "cell_type": "code",
   "execution_count": 571,
   "metadata": {},
   "outputs": [],
   "source": [
    "import pandas as pd\n",
    "import numpy as np\n",
    "import seaborn as sns\n",
    "import matplotlib.pyplot as plt\n",
    "import re\n",
    "import datetime as dt\n",
    "import json"
   ]
  },
  {
   "cell_type": "markdown",
   "metadata": {},
   "source": [
    "Import Data"
   ]
  },
  {
   "cell_type": "code",
   "execution_count": 572,
   "metadata": {},
   "outputs": [],
   "source": [
    "df = pd.read_csv(r\"C:\\Users\\tandi\\OneDrive\\Desktop\\Python Projects\\car.gr\\data.csv\")\n",
    "df.drop(\"Unnamed: 0\", axis=1, inplace=True)"
   ]
  },
  {
   "cell_type": "markdown",
   "metadata": {},
   "source": [
    "Handling Duplicate Values"
   ]
  },
  {
   "cell_type": "code",
   "execution_count": 573,
   "metadata": {},
   "outputs": [],
   "source": [
    "df.drop_duplicates(subset=\"id\", inplace=True)"
   ]
  },
  {
   "cell_type": "markdown",
   "metadata": {},
   "source": [
    "Handling missing values"
   ]
  },
  {
   "cell_type": "code",
   "execution_count": 574,
   "metadata": {},
   "outputs": [
    {
     "data": {
      "text/html": [
       "<div>\n",
       "<style scoped>\n",
       "    .dataframe tbody tr th:only-of-type {\n",
       "        vertical-align: middle;\n",
       "    }\n",
       "\n",
       "    .dataframe tbody tr th {\n",
       "        vertical-align: top;\n",
       "    }\n",
       "\n",
       "    .dataframe thead th {\n",
       "        text-align: right;\n",
       "    }\n",
       "</style>\n",
       "<table border=\"1\" class=\"dataframe\">\n",
       "  <thead>\n",
       "    <tr style=\"text-align: right;\">\n",
       "      <th></th>\n",
       "      <th>count</th>\n",
       "    </tr>\n",
       "    <tr>\n",
       "      <th>gearbox_type</th>\n",
       "      <th></th>\n",
       "    </tr>\n",
       "  </thead>\n",
       "  <tbody>\n",
       "    <tr>\n",
       "      <th>NaN</th>\n",
       "      <td>94220</td>\n",
       "    </tr>\n",
       "    <tr>\n",
       "      <th>Αυτόματο</th>\n",
       "      <td>37153</td>\n",
       "    </tr>\n",
       "    <tr>\n",
       "      <th>Ημιαυτόματο</th>\n",
       "      <td>735</td>\n",
       "    </tr>\n",
       "  </tbody>\n",
       "</table>\n",
       "</div>"
      ],
      "text/plain": [
       "              count\n",
       "gearbox_type       \n",
       "NaN           94220\n",
       "Αυτόματο      37153\n",
       "Ημιαυτόματο     735"
      ]
     },
     "execution_count": 574,
     "metadata": {},
     "output_type": "execute_result"
    }
   ],
   "source": [
    "pd.DataFrame(df[\"gearbox_type\"].value_counts(dropna=False))"
   ]
  },
  {
   "cell_type": "code",
   "execution_count": 575,
   "metadata": {},
   "outputs": [],
   "source": [
    "df.dropna(subset=[\"price\", \"make\"], inplace=True)\n",
    "df.loc[df[\"gearbox_type\"].isna(),\"gearbox_type\"] = \"Χειροκίνητο\""
   ]
  },
  {
   "cell_type": "markdown",
   "metadata": {},
   "source": [
    "Transforming Data Types"
   ]
  },
  {
   "cell_type": "code",
   "execution_count": 576,
   "metadata": {},
   "outputs": [],
   "source": [
    "df[\"id\"] = df[\"id\"].astype(str)\n",
    "df[\"registration\"] = pd.to_datetime(df[\"registration\"], format=\"%m/%Y\")\n",
    "df[\"mileage\"] = df[\"mileage\"].apply(lambda x: int(x.split(\" \")[0].replace(\".\",\"\")) if x is not np.nan else np.nan)\n",
    "df[\"engine_power\"] = df[\"engine_power\"].apply(lambda x: int(x.split(\" \")[0].replace(\".\",\"\")))\n"
   ]
  },
  {
   "cell_type": "markdown",
   "metadata": {},
   "source": [
    "Transforming engine size"
   ]
  },
  {
   "cell_type": "code",
   "execution_count": 577,
   "metadata": {},
   "outputs": [],
   "source": [
    "df[\"engine_measure\"] = df[\"engine_size\"].apply(lambda x: x.split(\" \")[1])\n",
    "df[\"engine_measure\"].value_counts()\n",
    "df[\"engine_size\"] = df[\"engine_size\"].apply(lambda x:int(x.split(\" \")[0].replace(\".\",\"\")))\n",
    "df.loc[df[\"engine_measure\"]==\"watt\",\"engine_size\"] /= 1000\n",
    "df.loc[df[\"engine_measure\"]==\"watt\",\"engine_measure\"] = \"kw\"\n",
    "\n"
   ]
  },
  {
   "cell_type": "markdown",
   "metadata": {},
   "source": [
    "Cleaning illogical data"
   ]
  },
  {
   "cell_type": "markdown",
   "metadata": {},
   "source": [
    "Removing cars than have pricing set per month"
   ]
  },
  {
   "cell_type": "code",
   "execution_count": 578,
   "metadata": {},
   "outputs": [],
   "source": [
    "df = df[~((df[\"offer_type\"]==\"leasing\")&(df[\"price\"]<5000))]"
   ]
  },
  {
   "cell_type": "markdown",
   "metadata": {},
   "source": [
    "If mileage is higer than 0 then it can't be new"
   ]
  },
  {
   "cell_type": "code",
   "execution_count": 579,
   "metadata": {},
   "outputs": [],
   "source": [
    "df.loc[df[\"is_new\"] & df[\"mileage\"].notna(), \"is_new\"] = False\n",
    "df.loc[df[\"is_new\"],\"mileage\"] = 0"
   ]
  },
  {
   "cell_type": "markdown",
   "metadata": {},
   "source": [
    "Remove cars that are being sold for parts"
   ]
  },
  {
   "cell_type": "code",
   "execution_count": 580,
   "metadata": {},
   "outputs": [],
   "source": [
    "df = df[~df[\"title\"].str.contains(r\"ανταλλακτικά|ανταλλακτικα|ανταλακτικα|ανταλακτικά|antalaktika|antallaktika|ανταλ\", case=False, na=False, regex=True)]"
   ]
  },
  {
   "cell_type": "markdown",
   "metadata": {},
   "source": [
    "Remove cars for rental"
   ]
  },
  {
   "cell_type": "code",
   "execution_count": 581,
   "metadata": {},
   "outputs": [],
   "source": [
    "df = df[~df[\"title\"].str.contains(r\"\\sRENT\\s\", case=False, regex=True)]"
   ]
  },
  {
   "cell_type": "markdown",
   "metadata": {},
   "source": [
    "Car Make should be specific"
   ]
  },
  {
   "cell_type": "code",
   "execution_count": 582,
   "metadata": {},
   "outputs": [],
   "source": [
    "df = df[~(df[\"make\"]==\"Αλλο\")]"
   ]
  },
  {
   "cell_type": "markdown",
   "metadata": {},
   "source": [
    "A non crashed car can't be worth less than 100 euros"
   ]
  },
  {
   "cell_type": "code",
   "execution_count": 583,
   "metadata": {},
   "outputs": [],
   "source": [
    "df = df[~((df[\"price\"]<=100)&~(df[\"crashed\"]))]"
   ]
  },
  {
   "cell_type": "markdown",
   "metadata": {},
   "source": [
    "Adding tax to price that doesn't include it"
   ]
  },
  {
   "cell_type": "code",
   "execution_count": 584,
   "metadata": {},
   "outputs": [],
   "source": [
    "df.loc[df[\"features\"].apply(lambda x: \"ΤΙΜΗ ΧΩΡΙΣ ΦΠΑ\" in x if x is not np.nan else False),\"price\"] *= 1.24"
   ]
  },
  {
   "cell_type": "markdown",
   "metadata": {},
   "source": [
    "Removing new non crashed cars that have price less than 1000"
   ]
  },
  {
   "cell_type": "code",
   "execution_count": 585,
   "metadata": {},
   "outputs": [],
   "source": [
    "df = df[~((df[\"price\"]<1000) & (df[\"registration\"]>\"2010-01-01\") & ~(df[\"crashed\"]))]"
   ]
  },
  {
   "cell_type": "markdown",
   "metadata": {},
   "source": [
    "Removing cars that have price less than 50"
   ]
  },
  {
   "cell_type": "code",
   "execution_count": 586,
   "metadata": {},
   "outputs": [],
   "source": [
    "df = df[df[\"price\"]>50]"
   ]
  },
  {
   "cell_type": "markdown",
   "metadata": {},
   "source": [
    "Removing cars without reported mileage"
   ]
  },
  {
   "cell_type": "code",
   "execution_count": 587,
   "metadata": {},
   "outputs": [
    {
     "name": "stdout",
     "output_type": "stream",
     "text": [
      "Cars without reported mileage : 972\n"
     ]
    }
   ],
   "source": [
    "print(f\"Cars without reported mileage : {df[df[\"mileage\"].isna()][\"id\"].count()}\")\n",
    "df = df[df[\"mileage\"].notna()]"
   ]
  },
  {
   "cell_type": "markdown",
   "metadata": {},
   "source": [
    "Removing extreme outliers"
   ]
  },
  {
   "cell_type": "code",
   "execution_count": 588,
   "metadata": {},
   "outputs": [
    {
     "name": "stdout",
     "output_type": "stream",
     "text": [
      "                                title  year      price\n",
      "39      Hyundai i 20 '17 1.2 GO! NAVI    17   999999.0\n",
      "128863          Porsche Taycan '23 4S    23  1111111.0\n"
     ]
    }
   ],
   "source": [
    "print(df[df[\"price\"]>900000][[\"title\",\"year\",\"price\"]])\n",
    "df = df[~(df[\"price\"]>900000)]"
   ]
  },
  {
   "cell_type": "markdown",
   "metadata": {},
   "source": [
    "Removing cars with 0 mileage"
   ]
  },
  {
   "cell_type": "code",
   "execution_count": 600,
   "metadata": {},
   "outputs": [],
   "source": [
    "df = df[~df[\"is_new\"]]"
   ]
  },
  {
   "cell_type": "markdown",
   "metadata": {},
   "source": [
    "Creating extra columns"
   ]
  },
  {
   "cell_type": "code",
   "execution_count": 589,
   "metadata": {},
   "outputs": [],
   "source": [
    "df[\"full_extra\"] = df[\"variant\"].str.contains(\"full extra\", case=False, na=False)\n",
    "df[\"warranty\"] = df[\"variant\"].str.contains(r\"εγγ\\u03CDηση|εγγυηση\", case=False, na=False, regex=True)\n",
    "df[\"year\"] = df[\"registration\"].dt.strftime(\"%Y\").astype(int)\n"
   ]
  },
  {
   "cell_type": "markdown",
   "metadata": {},
   "source": [
    "Transforming Category Column"
   ]
  },
  {
   "cell_type": "code",
   "execution_count": 590,
   "metadata": {},
   "outputs": [],
   "source": [
    "category_dict = {\n",
    "    \"Αυτοκίνητο » Suv/Crossover/4x4\":\"suv\",\n",
    "    \"Αυτοκίνητο » Van/Mini Bus/Mpv\":\"van\",\n",
    "    \"Αυτοκίνητο » Άλλο\":\"other\",\n",
    "    \"Αυτοκίνητο » Αγροτικό/Pickup\":\"pickup\",\n",
    "    \"Αυτοκίνητο » Αγωνιστικό\":\"race\",\n",
    "    \"Αυτοκίνητο » Επαγγελματικό Eπιβατικό\":\"profesional\",\n",
    "    \"Αυτοκίνητο » Κάμπριο/Roadster\":\"cabrio\",\n",
    "    \"Αυτοκίνητο » Κουπέ-Σπόρ\":\"coupe\",\n",
    "    \"Αυτοκίνητο » Κόμπακτ/Hatchback\":\"compact\",\n",
    "    \"Αυτοκίνητο » Κόμπι/Kάραβαν\":\"caravan\",\n",
    "    \"Αυτοκίνητο » Λιμουζίνα/Sedan\":\"sedan\"\n",
    "}\n",
    "df[\"category\"] = df[\"category\"].map(category_dict)"
   ]
  },
  {
   "cell_type": "code",
   "execution_count": 591,
   "metadata": {},
   "outputs": [
    {
     "data": {
      "text/plain": [
       "<Axes: xlabel='category', ylabel='price'>"
      ]
     },
     "execution_count": 591,
     "metadata": {},
     "output_type": "execute_result"
    },
    {
     "data": {
      "image/png": "[encoded data removed]",
      "text/plain": [
       "<Figure size 2000x500 with 1 Axes>"
      ]
     },
     "metadata": {},
     "output_type": "display_data"
    }
   ],
   "source": [
    "plt.figure(figsize=(20,5))\n",
    "sns.barplot(df.groupby(\"category\")[\"price\"].mean().sort_values(ascending=False))"
   ]
  },
  {
   "cell_type": "code",
   "execution_count": 618,
   "metadata": {},
   "outputs": [],
   "source": [
    "df[\"days_used\"] = df.apply(lambda car: (dt.datetime.today()-car[\"registration\"]).days, axis=1)\n",
    "df[\"miles_per_day\"] = df[\"mileage\"] / df[\"days_used\"]"
   ]
  },
  {
   "cell_type": "code",
   "execution_count": 623,
   "metadata": {},
   "outputs": [],
   "source": [
    "miles_per_day_per_category = df.groupby(\"category\")[\"miles_per_day\"].mean().to_dict()\n",
    "df[\"expected_mileage\"] = df.apply(lambda car: car[\"days_used\"]*miles_per_day_per_category[car[\"category\"]], axis=1)"
   ]
  },
  {
   "cell_type": "code",
   "execution_count": 626,
   "metadata": {},
   "outputs": [
    {
     "data": {
      "text/plain": [
       "23478.835470812945"
      ]
     },
     "execution_count": 626,
     "metadata": {},
     "output_type": "execute_result"
    }
   ],
   "source": [
    "(df[\"expected_mileage\"]-df[\"mileage\"]).mean()"
   ]
  }
 ],
 "metadata": {
  "kernelspec": {
   "display_name": "Python 3",
   "language": "python",
   "name": "python3"
  },
  "language_info": {
   "codemirror_mode": {
    "name": "ipython",
    "version": 3
   },
   "file_extension": ".py",
   "mimetype": "text/x-python",
   "name": "python",
   "nbconvert_exporter": "python",
   "pygments_lexer": "ipython3",
   "version": "3.12.2"
  }
 },
 "nbformat": 4,
 "nbformat_minor": 2
}
